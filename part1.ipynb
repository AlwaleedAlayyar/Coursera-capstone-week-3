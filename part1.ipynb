{
 "cells": [
  {
   "cell_type": "markdown",
   "metadata": {},
   "source": [
    "# scraping the table "
   ]
  },
  {
   "cell_type": "code",
   "execution_count": 1,
   "metadata": {},
   "outputs": [
    {
     "data": {
      "text/plain": [
       "'[{\"0\":\"Postal Code\",\"1\":\"Borough\",\"2\":\"Neighborhood\"},{\"0\":\"M1A\",\"1\":\"Not assigned\",\"2\":null},{\"0\":\"M2A\",\"1\":\"Not assigned\",\"2\":null},{\"0\":\"M3A\",\"1\":\"North York\",\"2\":\"Parkwoods\"},{\"0\":\"M4A\",\"1\":\"North York\",\"2\":\"Victoria Village\"},{\"0\":\"M5A\",\"1\":\"Downtown Toronto\",\"2\":\"Regent Park, Harbourfront\"},{\"0\":\"M6A\",\"1\":\"North York\",\"2\":\"Lawrence Manor, Lawrence Heights\"},{\"0\":\"M7A\",\"1\":\"Downtown Toronto\",\"2\":\"Queen\\'s Park, Ontario Provincial Government\"},{\"0\":\"M8A\",\"1\":\"Not assigned\",\"2\":null},{\"0\":\"M9A\",\"1\":\"Etobicoke\",\"2\":\"Islington Avenue\"},{\"0\":\"M1B\",\"1\":\"Scarborough\",\"2\":\"Malvern, Rouge\"},{\"0\":\"M2B\",\"1\":\"Not assigned\",\"2\":null},{\"0\":\"M3B\",\"1\":\"North York\",\"2\":\"Don Mills\"},{\"0\":\"M4B\",\"1\":\"East York\",\"2\":\"Parkview Hill, Woodbine Gardens\"},{\"0\":\"M5B\",\"1\":\"Downtown Toronto\",\"2\":\"Garden District, Ryerson\"},{\"0\":\"M6B\",\"1\":\"North York\",\"2\":\"Glencairn\"},{\"0\":\"M7B\",\"1\":\"Not assigned\",\"2\":null},{\"0\":\"M8B\",\"1\":\"Not assigned\",\"2\":null},{\"0\":\"M9B\",\"1\":\"Etobicoke\",\"2\":\"West Deane Park, Princess Gardens, Martin Grove, Islington, Cloverdale\"},{\"0\":\"M1C\",\"1\":\"Scarborough\",\"2\":\"Rouge Hill, Port Union, Highland Creek\"},{\"0\":\"M2C\",\"1\":\"Not assigned\",\"2\":null},{\"0\":\"M3C\",\"1\":\"North York\",\"2\":\"Don Mills\"},{\"0\":\"M4C\",\"1\":\"East York\",\"2\":\"Woodbine Heights\"},{\"0\":\"M5C\",\"1\":\"Downtown Toronto\",\"2\":\"St. James Town\"},{\"0\":\"M6C\",\"1\":\"York\",\"2\":\"Humewood-Cedarvale\"},{\"0\":\"M7C\",\"1\":\"Not assigned\",\"2\":null},{\"0\":\"M8C\",\"1\":\"Not assigned\",\"2\":null},{\"0\":\"M9C\",\"1\":\"Etobicoke\",\"2\":\"Eringate, Bloordale Gardens, Old Burnhamthorpe, Markland Wood\"},{\"0\":\"M1E\",\"1\":\"Scarborough\",\"2\":\"Guildwood, Morningside, West Hill\"},{\"0\":\"M2E\",\"1\":\"Not assigned\",\"2\":null},{\"0\":\"M3E\",\"1\":\"Not assigned\",\"2\":null},{\"0\":\"M4E\",\"1\":\"East Toronto\",\"2\":\"The Beaches\"},{\"0\":\"M5E\",\"1\":\"Downtown Toronto\",\"2\":\"Berczy Park\"},{\"0\":\"M6E\",\"1\":\"York\",\"2\":\"Caledonia-Fairbanks\"},{\"0\":\"M7E\",\"1\":\"Not assigned\",\"2\":null},{\"0\":\"M8E\",\"1\":\"Not assigned\",\"2\":null},{\"0\":\"M9E\",\"1\":\"Not assigned\",\"2\":null},{\"0\":\"M1G\",\"1\":\"Scarborough\",\"2\":\"Woburn\"},{\"0\":\"M2G\",\"1\":\"Not assigned\",\"2\":null},{\"0\":\"M3G\",\"1\":\"Not assigned\",\"2\":null},{\"0\":\"M4G\",\"1\":\"East York\",\"2\":\"Leaside\"},{\"0\":\"M5G\",\"1\":\"Downtown Toronto\",\"2\":\"Central Bay Street\"},{\"0\":\"M6G\",\"1\":\"Downtown Toronto\",\"2\":\"Christie\"},{\"0\":\"M7G\",\"1\":\"Not assigned\",\"2\":null},{\"0\":\"M8G\",\"1\":\"Not assigned\",\"2\":null},{\"0\":\"M9G\",\"1\":\"Not assigned\",\"2\":null},{\"0\":\"M1H\",\"1\":\"Scarborough\",\"2\":\"Cedarbrae\"},{\"0\":\"M2H\",\"1\":\"North York\",\"2\":\"Hillcrest Village\"},{\"0\":\"M3H\",\"1\":\"North York\",\"2\":\"Bathurst Manor, Wilson Heights, Downsview North\"},{\"0\":\"M4H\",\"1\":\"East York\",\"2\":\"Thorncliffe Park\"},{\"0\":\"M5H\",\"1\":\"Downtown Toronto\",\"2\":\"Richmond, Adelaide, King\"},{\"0\":\"M6H\",\"1\":\"West Toronto\",\"2\":\"Dufferin, Dovercourt Village\"},{\"0\":\"M7H\",\"1\":\"Not assigned\",\"2\":null},{\"0\":\"M8H\",\"1\":\"Not assigned\",\"2\":null},{\"0\":\"M9H\",\"1\":\"Not assigned\",\"2\":null},{\"0\":\"M1J\",\"1\":\"Scarborough\",\"2\":\"Scarborough Village\"},{\"0\":\"M2J\",\"1\":\"North York\",\"2\":\"Fairview, Henry Farm, Oriole\"},{\"0\":\"M3J\",\"1\":\"North York\",\"2\":\"Northwood Park, York University\"},{\"0\":\"M4J\",\"1\":\"East York\",\"2\":\"East Toronto\"},{\"0\":\"M5J\",\"1\":\"Downtown Toronto\",\"2\":\"Harbourfront East, Union Station, Toronto Islands\"},{\"0\":\"M6J\",\"1\":\"West Toronto\",\"2\":\"Little Portugal, Trinity\"},{\"0\":\"M7J\",\"1\":\"Not assigned\",\"2\":null},{\"0\":\"M8J\",\"1\":\"Not assigned\",\"2\":null},{\"0\":\"M9J\",\"1\":\"Not assigned\",\"2\":null},{\"0\":\"M1K\",\"1\":\"Scarborough\",\"2\":\"Kennedy Park, Ionview, East Birchmount Park\"},{\"0\":\"M2K\",\"1\":\"North York\",\"2\":\"Bayview Village\"},{\"0\":\"M3K\",\"1\":\"North York\",\"2\":\"Downsview\"},{\"0\":\"M4K\",\"1\":\"East Toronto\",\"2\":\"The Danforth West, Riverdale\"},{\"0\":\"M5K\",\"1\":\"Downtown Toronto\",\"2\":\"Toronto Dominion Centre, Design Exchange\"},{\"0\":\"M6K\",\"1\":\"West Toronto\",\"2\":\"Brockton, Parkdale Village, Exhibition Place\"},{\"0\":\"M7K\",\"1\":\"Not assigned\",\"2\":null},{\"0\":\"M8K\",\"1\":\"Not assigned\",\"2\":null},{\"0\":\"M9K\",\"1\":\"Not assigned\",\"2\":null},{\"0\":\"M1L\",\"1\":\"Scarborough\",\"2\":\"Golden Mile, Clairlea, Oakridge\"},{\"0\":\"M2L\",\"1\":\"North York\",\"2\":\"York Mills, Silver Hills\"},{\"0\":\"M3L\",\"1\":\"North York\",\"2\":\"Downsview\"},{\"0\":\"M4L\",\"1\":\"East Toronto\",\"2\":\"India Bazaar, The Beaches West\"},{\"0\":\"M5L\",\"1\":\"Downtown Toronto\",\"2\":\"Commerce Court, Victoria Hotel\"},{\"0\":\"M6L\",\"1\":\"North York\",\"2\":\"North Park, Maple Leaf Park, Upwood Park\"},{\"0\":\"M7L\",\"1\":\"Not assigned\",\"2\":null},{\"0\":\"M8L\",\"1\":\"Not assigned\",\"2\":null},{\"0\":\"M9L\",\"1\":\"North York\",\"2\":\"Humber Summit\"},{\"0\":\"M1M\",\"1\":\"Scarborough\",\"2\":\"Cliffside, Cliffcrest, Scarborough Village West\"},{\"0\":\"M2M\",\"1\":\"North York\",\"2\":\"Willowdale, Newtonbrook\"},{\"0\":\"M3M\",\"1\":\"North York\",\"2\":\"Downsview\"},{\"0\":\"M4M\",\"1\":\"East Toronto\",\"2\":\"Studio District\"},{\"0\":\"M5M\",\"1\":\"North York\",\"2\":\"Bedford Park, Lawrence Manor East\"},{\"0\":\"M6M\",\"1\":\"York\",\"2\":\"Del Ray, Mount Dennis, Keelsdale and Silverthorn\"},{\"0\":\"M7M\",\"1\":\"Not assigned\",\"2\":null},{\"0\":\"M8M\",\"1\":\"Not assigned\",\"2\":null},{\"0\":\"M9M\",\"1\":\"North York\",\"2\":\"Humberlea, Emery\"},{\"0\":\"M1N\",\"1\":\"Scarborough\",\"2\":\"Birch Cliff, Cliffside West\"},{\"0\":\"M2N\",\"1\":\"North York\",\"2\":\"Willowdale\"},{\"0\":\"M3N\",\"1\":\"North York\",\"2\":\"Downsview\"},{\"0\":\"M4N\",\"1\":\"Central Toronto\",\"2\":\"Lawrence Park\"},{\"0\":\"M5N\",\"1\":\"Central Toronto\",\"2\":\"Roselawn\"},{\"0\":\"M6N\",\"1\":\"York\",\"2\":\"Runnymede, The Junction North\"},{\"0\":\"M7N\",\"1\":\"Not assigned\",\"2\":null},{\"0\":\"M8N\",\"1\":\"Not assigned\",\"2\":null},{\"0\":\"M9N\",\"1\":\"York\",\"2\":\"Weston\"},{\"0\":\"M1P\",\"1\":\"Scarborough\",\"2\":\"Dorset Park, Wexford Heights, Scarborough Town Centre\"},{\"0\":\"M2P\",\"1\":\"North York\",\"2\":\"York Mills West\"},{\"0\":\"M3P\",\"1\":\"Not assigned\",\"2\":null},{\"0\":\"M4P\",\"1\":\"Central Toronto\",\"2\":\"Davisville North\"},{\"0\":\"M5P\",\"1\":\"Central Toronto\",\"2\":\"Forest Hill North & West\"},{\"0\":\"M6P\",\"1\":\"West Toronto\",\"2\":\"High Park, The Junction South\"},{\"0\":\"M7P\",\"1\":\"Not assigned\",\"2\":null},{\"0\":\"M8P\",\"1\":\"Not assigned\",\"2\":null},{\"0\":\"M9P\",\"1\":\"Etobicoke\",\"2\":\"Westmount\"},{\"0\":\"M1R\",\"1\":\"Scarborough\",\"2\":\"Wexford, Maryvale\"},{\"0\":\"M2R\",\"1\":\"North York\",\"2\":\"Willowdale\"},{\"0\":\"M3R\",\"1\":\"Not assigned\",\"2\":null},{\"0\":\"M4R\",\"1\":\"Central Toronto\",\"2\":\"North Toronto West\"},{\"0\":\"M5R\",\"1\":\"Central Toronto\",\"2\":\"The Annex, North Midtown, Yorkville\"},{\"0\":\"M6R\",\"1\":\"West Toronto\",\"2\":\"Parkdale, Roncesvalles\"},{\"0\":\"M7R\",\"1\":\"Mississauga\",\"2\":\"Canada Post Gateway Processing Centre\"},{\"0\":\"M8R\",\"1\":\"Not assigned\",\"2\":null},{\"0\":\"M9R\",\"1\":\"Etobicoke\",\"2\":\"Kingsview Village, St. Phillips, Martin Grove Gardens, Richview Gardens\"},{\"0\":\"M1S\",\"1\":\"Scarborough\",\"2\":\"Agincourt\"},{\"0\":\"M2S\",\"1\":\"Not assigned\",\"2\":null},{\"0\":\"M3S\",\"1\":\"Not assigned\",\"2\":null},{\"0\":\"M4S\",\"1\":\"Central Toronto\",\"2\":\"Davisville\"},{\"0\":\"M5S\",\"1\":\"Downtown Toronto\",\"2\":\"University of Toronto, Harbord\"},{\"0\":\"M6S\",\"1\":\"West Toronto\",\"2\":\"Runnymede, Swansea\"},{\"0\":\"M7S\",\"1\":\"Not assigned\",\"2\":null},{\"0\":\"M8S\",\"1\":\"Not assigned\",\"2\":null},{\"0\":\"M9S\",\"1\":\"Not assigned\",\"2\":null},{\"0\":\"M1T\",\"1\":\"Scarborough\",\"2\":\"Clarks Corners, Tam O\\'Shanter, Sullivan\"},{\"0\":\"M2T\",\"1\":\"Not assigned\",\"2\":null},{\"0\":\"M3T\",\"1\":\"Not assigned\",\"2\":null},{\"0\":\"M4T\",\"1\":\"Central Toronto\",\"2\":\"Moore Park, Summerhill East\"},{\"0\":\"M5T\",\"1\":\"Downtown Toronto\",\"2\":\"Kensington Market, Chinatown, Grange Park\"},{\"0\":\"M6T\",\"1\":\"Not assigned\",\"2\":null},{\"0\":\"M7T\",\"1\":\"Not assigned\",\"2\":null},{\"0\":\"M8T\",\"1\":\"Not assigned\",\"2\":null},{\"0\":\"M9T\",\"1\":\"Not assigned\",\"2\":null},{\"0\":\"M1V\",\"1\":\"Scarborough\",\"2\":\"Milliken, Agincourt North, Steeles East, L\\'Amoreaux East\"},{\"0\":\"M2V\",\"1\":\"Not assigned\",\"2\":null},{\"0\":\"M3V\",\"1\":\"Not assigned\",\"2\":null},{\"0\":\"M4V\",\"1\":\"Central Toronto\",\"2\":\"Summerhill West, Rathnelly, South Hill, Forest Hill SE, Deer Park\"},{\"0\":\"M5V\",\"1\":\"Downtown Toronto\",\"2\":\"CN Tower, King and Spadina, Railway Lands, Harbourfront West, Bathurst Quay, South Niagara, Island airport\"},{\"0\":\"M6V\",\"1\":\"Not assigned\",\"2\":null},{\"0\":\"M7V\",\"1\":\"Not assigned\",\"2\":null},{\"0\":\"M8V\",\"1\":\"Etobicoke\",\"2\":\"New Toronto, Mimico South, Humber Bay Shores\"},{\"0\":\"M9V\",\"1\":\"Etobicoke\",\"2\":\"South Steeles, Silverstone, Humbergate, Jamestown, Mount Olive, Beaumond Heights, Thistletown, Albion Gardens\"},{\"0\":\"M1W\",\"1\":\"Scarborough\",\"2\":\"Steeles West, L\\'Amoreaux West\"},{\"0\":\"M2W\",\"1\":\"Not assigned\",\"2\":null},{\"0\":\"M3W\",\"1\":\"Not assigned\",\"2\":null},{\"0\":\"M4W\",\"1\":\"Downtown Toronto\",\"2\":\"Rosedale\"},{\"0\":\"M5W\",\"1\":\"Downtown Toronto\",\"2\":\"Stn A PO Boxes\"},{\"0\":\"M6W\",\"1\":\"Not assigned\",\"2\":null},{\"0\":\"M7W\",\"1\":\"Not assigned\",\"2\":null},{\"0\":\"M8W\",\"1\":\"Etobicoke\",\"2\":\"Alderwood, Long Branch\"},{\"0\":\"M9W\",\"1\":\"Etobicoke\",\"2\":\"Northwest\"},{\"0\":\"M1X\",\"1\":\"Scarborough\",\"2\":\"Upper Rouge\"},{\"0\":\"M2X\",\"1\":\"Not assigned\",\"2\":null},{\"0\":\"M3X\",\"1\":\"Not assigned\",\"2\":null},{\"0\":\"M4X\",\"1\":\"Downtown Toronto\",\"2\":\"St. James Town, Cabbagetown\"},{\"0\":\"M5X\",\"1\":\"Downtown Toronto\",\"2\":\"First Canadian Place, Underground city\"},{\"0\":\"M6X\",\"1\":\"Not assigned\",\"2\":null},{\"0\":\"M7X\",\"1\":\"Not assigned\",\"2\":null},{\"0\":\"M8X\",\"1\":\"Etobicoke\",\"2\":\"The Kingsway, Montgomery Road, Old Mill North\"},{\"0\":\"M9X\",\"1\":\"Not assigned\",\"2\":null},{\"0\":\"M1Y\",\"1\":\"Not assigned\",\"2\":null},{\"0\":\"M2Y\",\"1\":\"Not assigned\",\"2\":null},{\"0\":\"M3Y\",\"1\":\"Not assigned\",\"2\":null},{\"0\":\"M4Y\",\"1\":\"Downtown Toronto\",\"2\":\"Church and Wellesley\"},{\"0\":\"M5Y\",\"1\":\"Not assigned\",\"2\":null},{\"0\":\"M6Y\",\"1\":\"Not assigned\",\"2\":null},{\"0\":\"M7Y\",\"1\":\"East Toronto\",\"2\":\"Business reply mail Processing Centre\"},{\"0\":\"M8Y\",\"1\":\"Etobicoke\",\"2\":\"Old Mill South, King\\'s Mill Park, Sunnylea, Humber Bay, Mimico NE, The Queensway East, Royal York South East, Kingsway Park South East\"},{\"0\":\"M9Y\",\"1\":\"Not assigned\",\"2\":null},{\"0\":\"M1Z\",\"1\":\"Not assigned\",\"2\":null},{\"0\":\"M2Z\",\"1\":\"Not assigned\",\"2\":null},{\"0\":\"M3Z\",\"1\":\"Not assigned\",\"2\":null},{\"0\":\"M4Z\",\"1\":\"Not assigned\",\"2\":null},{\"0\":\"M5Z\",\"1\":\"Not assigned\",\"2\":null},{\"0\":\"M6Z\",\"1\":\"Not assigned\",\"2\":null},{\"0\":\"M7Z\",\"1\":\"Not assigned\",\"2\":null},{\"0\":\"M8Z\",\"1\":\"Etobicoke\",\"2\":\"Mimico NW, The Queensway West, South of Bloor, Kingsway Park South West, Royal York South West\"},{\"0\":\"M9Z\",\"1\":\"Not assigned\",\"2\":null}]'"
      ]
     },
     "execution_count": 1,
     "metadata": {},
     "output_type": "execute_result"
    }
   ],
   "source": [
    "import pandas as pd\n",
    "import requests\n",
    "from bs4 import BeautifulSoup\n",
    "\n",
    "res = requests.get(\"https://en.wikipedia.org/wiki/List_of_postal_codes_of_Canada:_M\")\n",
    "soup = BeautifulSoup(res.content,'lxml')\n",
    "table = soup.find_all('table')[0] \n",
    "df = pd.read_html(str(table))\n",
    "df[0].to_json(orient='records')"
   ]
  },
  {
   "cell_type": "markdown",
   "metadata": {},
   "source": [
    "# setting the columns"
   ]
  },
  {
   "cell_type": "code",
   "execution_count": 2,
   "metadata": {},
   "outputs": [],
   "source": [
    "data = pd.DataFrame(df[0])\n",
    "data.columns=['PostalCode','Borough','Neighborhood']"
   ]
  },
  {
   "cell_type": "markdown",
   "metadata": {},
   "source": [
    "# dropping cells with a borough that is Not assigned."
   ]
  },
  {
   "cell_type": "code",
   "execution_count": 3,
   "metadata": {},
   "outputs": [],
   "source": [
    "data.drop([0],inplace=True)\n",
    "data = data[data.Borough != 'Not assigned'] "
   ]
  },
  {
   "cell_type": "markdown",
   "metadata": {},
   "source": [
    "# Grouping the neighborhoods"
   ]
  },
  {
   "cell_type": "code",
   "execution_count": 4,
   "metadata": {},
   "outputs": [],
   "source": [
    "data = data.groupby(['PostalCode', 'Borough'])['Neighborhood'].apply(','.join).reset_index()"
   ]
  },
  {
   "cell_type": "markdown",
   "metadata": {},
   "source": [
    "# assingning neighborhoods to its  borough if its not assigned."
   ]
  },
  {
   "cell_type": "code",
   "execution_count": 5,
   "metadata": {},
   "outputs": [],
   "source": [
    "for index, i in data.iterrows():\n",
    "    if i[\"Neighborhood\"] == \"Not assigned\":\n",
    "        i[\"Neighborhood\"] = i[\"Borough\"]"
   ]
  },
  {
   "cell_type": "markdown",
   "metadata": {},
   "source": [
    "# Dataframe shape"
   ]
  },
  {
   "cell_type": "code",
   "execution_count": 6,
   "metadata": {},
   "outputs": [
    {
     "data": {
      "text/plain": [
       "(103, 3)"
      ]
     },
     "execution_count": 6,
     "metadata": {},
     "output_type": "execute_result"
    }
   ],
   "source": [
    "data.shape"
   ]
  },
  {
   "cell_type": "markdown",
   "metadata": {},
   "source": [
    "# Saving the file"
   ]
  },
  {
   "cell_type": "code",
   "execution_count": 12,
   "metadata": {},
   "outputs": [],
   "source": [
    "data.to_csv(r'C:\\Users\\WIN\\Desktop\\py_project.csv',index=False)"
   ]
  }
 ],
 "metadata": {
  "kernelspec": {
   "display_name": "Python 3",
   "language": "python",
   "name": "python3"
  },
  "language_info": {
   "codemirror_mode": {
    "name": "ipython",
    "version": 3
   },
   "file_extension": ".py",
   "mimetype": "text/x-python",
   "name": "python",
   "nbconvert_exporter": "python",
   "pygments_lexer": "ipython3",
   "version": "3.7.1"
  }
 },
 "nbformat": 4,
 "nbformat_minor": 2
}
